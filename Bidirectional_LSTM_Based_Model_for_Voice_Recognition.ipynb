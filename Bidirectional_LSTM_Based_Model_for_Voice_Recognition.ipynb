{
  "cells": [
    {
      "cell_type": "markdown",
      "source": [
        "#Deep Learning-Driven Speech Emotion Analysis"
      ],
      "metadata": {
        "id": "5NTvRHDHpFZW"
      }
    },
    {
      "cell_type": "markdown",
      "source": [
        "This project addresses the challenge of accurately\n",
        "recognizing and classifying emotions from speech, aiming\n",
        "to enhance mental health diagnostics and customer service\n",
        "interactions. Leveraging a hybrid deep learning model\n",
        "combining Convolutional Neural Networks (CNNs) and\n",
        "Long Short-Term Memory (LSTM) networks, the study\n",
        "utilizes the Ryerson Audio-Visual Database of Emotional\n",
        "Speech and Song (RAVDESS). The model focuses on\n",
        "extracting features from speech patterns while capturing\n",
        "temporal dynamics crucial for understanding emotional\n",
        "context. Advanced pre-processing techniques, supervised\n",
        "learning with transfer learning, and comprehensive\n",
        "evaluation metrics contribute to the project's methodology.\n",
        "The primary goal is to develop a highly accurate and\n",
        "reliable model applicable to real-world scenarios, with\n",
        "outcomes poised to revolutionize practices in mental\n",
        "health therapy and customer service interactions. The\n",
        "project's deliverables include a fully trained deep learning\n",
        "model and a detailed research report documenting the\n",
        "methodology and results."
      ],
      "metadata": {
        "id": "SNaEHuHFpCxi"
      }
    },
    {
      "cell_type": "markdown",
      "source": [
        "**Here are some library's we needed for this project:**\n",
        "\n",
        "1. **Pandas (`import pandas as pd`):**\n",
        "   - **Description:** Pandas is a powerful data manipulation library in Python. It provides data structures like DataFrame for efficient data handling and manipulation.\n",
        "\n",
        "2. **NumPy (`import numpy as np`):**\n",
        "   - **Description:** NumPy is a fundamental package for scientific computing in Python. It provides support for large, multi-dimensional arrays and matrices, along with mathematical functions to operate on these arrays.\n",
        "\n",
        "3. **Matplotlib (`import matplotlib.pyplot as plt`):**\n",
        "   - **Description:** Matplotlib is a 2D plotting library for Python. It enables the creation of various types of plots and visualizations, essential for data exploration and analysis.\n",
        "\n",
        "4. **Seaborn (`import seaborn as sns`):**\n",
        "   - **Description:** Seaborn is a statistical data visualization library based on Matplotlib. It simplifies the process of creating informative and aesthetically pleasing statistical graphics.\n",
        "\n",
        "5. **Librosa (`import librosa`):**\n",
        "   - **Description:** Librosa is a Python package for music and audio analysis. It provides tools for feature extraction, time-series analysis, and visualization of audio data, making it suitable for tasks like speech emotion analysis.\n",
        "\n",
        "6. **IPython Display (`import IPython.display as ipd`):**\n",
        "   - **Description:** IPython Display provides tools for interactive computing in Python. In this project, it is used to play audio files directly within Jupyter Notebooks using `ipd.Audio()`.\n",
        "\n",
        "7. **OS (`import os`):**\n",
        "   - **Description:** The OS module provides a way to use operating system-dependent functionality, such as reading or writing to the file system. In this project, it is used for directory and file manipulation.\n",
        "\n",
        "8. **Keras (`from keras.models import Sequential`):**\n",
        "   - **Description:** Keras is a high-level neural networks API written in Python. It allows for easy and fast prototyping of deep learning models. In this project, it is used to define and train neural network models.\n",
        "\n",
        "9. **Scikit-learn (`from sklearn.model_selection import train_test_split`):**\n",
        "   - **Description:** Scikit-learn is a machine learning library in Python. It provides simple and efficient tools for data mining and data analysis. In this project, `train_test_split` is used to split the dataset into training and testing sets.\n",
        "\n",
        "10. **Reshape (`from keras.layers import Reshape`):**\n",
        "   - **Description:** Reshape is a layer in Keras used for reshaping the dimensions of input data. It is particularly useful when the shape of the data needs to be modified before passing it through subsequent layers.\n",
        "\n",
        "These libraries collectively contribute to data preprocessing, feature extraction, model development, and result visualization in the project."
      ],
      "metadata": {
        "id": "Xwc8SrABpl-H"
      }
    },
    {
      "cell_type": "code",
      "execution_count": 6,
      "metadata": {
        "id": "cRy0r7j_ID-P"
      },
      "outputs": [],
      "source": [
        "# Importing necessary libraries\n",
        "import pandas as pd\n",
        "import numpy as np\n",
        "import matplotlib.pyplot as plt\n",
        "import seaborn as sns\n",
        "import librosa\n",
        "import librosa.display\n",
        "import IPython.display as ipd\n",
        "import os\n",
        "from keras.utils import to_categorical\n",
        "from sklearn.model_selection import train_test_split\n",
        "from keras.models import Sequential\n",
        "from keras.layers import Conv1D, MaxPooling1D, GlobalAveragePooling1D, Dense, Dropout\n",
        "from keras.optimizers import RMSprop\n",
        "from keras.layers import Reshape"
      ]
    },
    {
      "cell_type": "code",
      "execution_count": 7,
      "metadata": {
        "colab": {
          "base_uri": "https://localhost:8080/"
        },
        "id": "CCCsQ55JL9BS",
        "outputId": "9d8670d2-f513-4d15-e6a2-5fef4fb20d8e"
      },
      "outputs": [
        {
          "output_type": "stream",
          "name": "stdout",
          "text": [
            "Collecting pydub\n",
            "  Downloading pydub-0.25.1-py2.py3-none-any.whl (32 kB)\n",
            "Installing collected packages: pydub\n",
            "Successfully installed pydub-0.25.1\n"
          ]
        }
      ],
      "source": [
        "!pip install pydub"
      ]
    },
    {
      "cell_type": "markdown",
      "source": [
        "**Pydub (`from pydub import AudioSegment`):**\n",
        "   - **Description:** Pydub is a Python library for audio processing. It simplifies various audio tasks, including loading, manipulating, and saving audio files. Pydub supports a variety of audio file formats and provides functionalities for tasks such as trimming, concatenating, and applying effects to audio. In this project, Pydub is used for loading audio files and extracting audio features."
      ],
      "metadata": {
        "id": "wFgJrbFkqbXX"
      }
    },
    {
      "cell_type": "code",
      "execution_count": 8,
      "metadata": {
        "id": "5gmUTzcZL7D5"
      },
      "outputs": [],
      "source": [
        "from pydub import AudioSegment"
      ]
    },
    {
      "cell_type": "markdown",
      "source": [
        "**Dataset Overview: Ryerson Audio-Visual Database of Emotional Speech and Song (RAVDESS)**\n",
        "\n",
        "- **Description:**\n",
        "  - The RAVDESS is an audio-visual database specifically designed for emotion recognition, containing speech audio-only files in 16-bit, 48kHz .wav format. The dataset is extensively described in an Open Access paper available in PLoS ONE.\n",
        "\n",
        "- **File Composition:**\n",
        "  - The dataset consists of 1440 files, resulting from 60 trials per actor for 24 professional actors (12 female, 12 male). Each actor vocalizes two lexically-matched statements in a neutral North American accent. Emotion expressions include calm, happy, sad, angry, fearful, surprise, and disgust, produced at two levels of emotional intensity (normal, strong), with an additional neutral expression.\n",
        "\n",
        "- **File Naming Convention:**\n",
        "  - Each file has a unique 7-part numerical identifier (e.g., 03-01-06-01-02-01-12.wav) indicating various stimulus characteristics, such as modality, vocal channel, emotion, emotional intensity, statement, repetition, and actor.\n",
        "\n",
        "- **Citation:**\n",
        "  - The dataset should be cited using the following academic citation: Livingstone SR, Russo FA (2018) The Ryerson Audio-Visual Database of Emotional Speech and Song (RAVDESS): A dynamic, multimodal set of facial and vocal expressions in North American English. PLoS ONE 13(5): e0196391. [DOI](https://doi.org/10.1371/journal.pone.0196391)\n",
        "\n",
        "- **Access Link:**\n",
        "  - [RAVDESS Kaggle Dataset](https://www.kaggle.com/datasets/uwrfkaggler/ravdess-emotional-speech-audio)"
      ],
      "metadata": {
        "id": "KcgAmBDbqgjP"
      }
    },
    {
      "cell_type": "code",
      "execution_count": 9,
      "metadata": {
        "colab": {
          "base_uri": "https://localhost:8080/"
        },
        "id": "j7XjNmK_IIp7",
        "outputId": "ca8571fd-7ade-4cf3-cf73-4462b1cb04c3"
      },
      "outputs": [
        {
          "output_type": "stream",
          "name": "stdout",
          "text": [
            "Mounted at /content/drive\n",
            "/content/drive/MyDrive/audio_speech_actors_01-24\n",
            "\u001b[0m\u001b[01;34mActor_01\u001b[0m/  \u001b[01;34mActor_04\u001b[0m/  \u001b[01;34mActor_07\u001b[0m/  \u001b[01;34mActor_10\u001b[0m/  \u001b[01;34mActor_13\u001b[0m/  \u001b[01;34mActor_16\u001b[0m/  \u001b[01;34mActor_19\u001b[0m/  \u001b[01;34mActor_22\u001b[0m/\n",
            "\u001b[01;34mActor_02\u001b[0m/  \u001b[01;34mActor_05\u001b[0m/  \u001b[01;34mActor_08\u001b[0m/  \u001b[01;34mActor_11\u001b[0m/  \u001b[01;34mActor_14\u001b[0m/  \u001b[01;34mActor_17\u001b[0m/  \u001b[01;34mActor_20\u001b[0m/  \u001b[01;34mActor_23\u001b[0m/\n",
            "\u001b[01;34mActor_03\u001b[0m/  \u001b[01;34mActor_06\u001b[0m/  \u001b[01;34mActor_09\u001b[0m/  \u001b[01;34mActor_12\u001b[0m/  \u001b[01;34mActor_15\u001b[0m/  \u001b[01;34mActor_18\u001b[0m/  \u001b[01;34mActor_21\u001b[0m/  \u001b[01;34mActor_24\u001b[0m/\n"
          ]
        }
      ],
      "source": [
        "from google.colab import drive\n",
        "drive.mount('/content/drive')\n",
        "\n",
        "%cd /content/drive/MyDrive/audio_speech_actors_01-24\n",
        "%ls"
      ]
    },
    {
      "cell_type": "markdown",
      "source": [
        "**Brief Explanation: Loading and Preprocessing RAVDESS Dataset**\n",
        "\n",
        "1. **Define Dataset Path:**\n",
        "   - The variable `RAVDESS` is set to the directory path where the RAVDESS dataset is stored. This path is the root directory containing audio and speech files for actors 01 to 24.\n",
        "\n",
        "2. **Loading and Organizing Data:**\n",
        "   - `os.listdir(RAVDESS)` retrieves the list of directories within the specified RAVDESS root directory.\n",
        "   - `path_list` and `emotion_list` are initialized to collect file paths and corresponding emotions.\n",
        "\n",
        "3. **Emotion Dictionary:**\n",
        "   - An `emotion_dic` is defined to map numeric codes in the file names to emotion labels. For example, code '03' corresponds to 'happy'.\n",
        "\n",
        "4. **Loop through Directories and Files:**\n",
        "   - Nested loops iterate through each actor's directory and the audio files within.\n",
        "   - For each audio file, the code extracts relevant information from the filename, particularly the emotion code.\n",
        "   - If the emotion code is present in the defined dictionary, the file path and mapped emotion label are added to the respective lists.\n",
        "\n",
        "5. **Create DataFrame:**\n",
        "   - The collected paths and emotions are used to create a Pandas DataFrame named `df`. The DataFrame has two columns, 'path' and 'emotion', storing the file paths and corresponding emotion labels.\n",
        "\n",
        "**Note:** This code segment is a crucial step in preparing the dataset for subsequent processing, providing an organized structure for efficient handling of audio files and their associated emotions."
      ],
      "metadata": {
        "id": "YrPGD3OxsIdL"
      }
    },
    {
      "cell_type": "code",
      "execution_count": 10,
      "metadata": {
        "id": "GBpxv9cSIKv6"
      },
      "outputs": [],
      "source": [
        "# Define the directory path for the RAVDESS dataset\n",
        "RAVDESS = '/content/drive/MyDrive/audio_speech_actors_01-24'\n",
        "\n",
        "# Rest of your code for data loading and preprocessing\n",
        "ravdess_dir_lis = os.listdir(RAVDESS)\n",
        "path_list = []\n",
        "emotion_list = []\n",
        "\n",
        "# Define the emotion dictionary\n",
        "emotion_dic = {\n",
        "    '03': 'happy',\n",
        "    '01': 'neutral',\n",
        "    '04': 'sad',\n",
        "    '05': 'angry',\n",
        "    '06': 'fear',\n",
        "    '07': 'disgust',\n",
        "}\n",
        "\n",
        "# Loop through the directories and audio files to collect paths and emotions\n",
        "for directory in ravdess_dir_lis:\n",
        "    actor_files = os.listdir(os.path.join(RAVDESS, directory))\n",
        "    for audio_file in actor_files:\n",
        "        part = audio_file.split('.')[0]\n",
        "        key = part.split('-')[2]\n",
        "        if key in emotion_dic:\n",
        "            path_list.append(os.path.join(RAVDESS, directory, audio_file))\n",
        "            emotion_list.append(emotion_dic[key])\n",
        "\n",
        "# Create a DataFrame\n",
        "df = pd.DataFrame({\n",
        "    'path': path_list,\n",
        "    'emotion': emotion_list\n",
        "})"
      ]
    },
    {
      "cell_type": "markdown",
      "source": [
        "**Audio Preprocessing Function**\n",
        "\n",
        "1. **Function Purpose:**\n",
        "   - The function `preprocess_audio` is designed to preprocess audio data from a given file path.\n",
        "\n",
        "2. **Function Parameters:**\n",
        "   - `path`: The input parameter representing the file path of the audio file to be processed.\n",
        "\n",
        "3. **Processing Steps:**\n",
        "   - `librosa.load(path)`: Utilizes the librosa library to load the audio file, returning the audio waveform (`samples`) and the sample rate (`sr`).\n",
        "   - `AudioSegment.from_file(path)`: Uses the pydub library to create an AudioSegment object from the audio file.\n",
        "   - `raw_audio.get_array_of_samples()`: Extracts the raw audio samples from the AudioSegment object.\n",
        "   - `librosa.effects.trim(samples, top_db=25)`: Trims silent sections from the audio based on a dB threshold.\n",
        "   - `np.pad(trimmed, (0, 180000 - len(trimmed)), 'constant')`: Pads or truncates the trimmed audio to a fixed length of 180,000 samples.\n",
        "\n",
        "4. **Function Output:**\n",
        "   - The function returns the preprocessed audio data in the form of a padded or truncated array (`padded`) and the sample rate (`sr`).\n",
        "\n",
        "**Note:** This function is crucial for preparing the raw audio data before further feature extraction or analysis. It addresses issues such as trimming silence, ensuring a consistent length, and obtaining a standardized representation for subsequent processing in machine learning models."
      ],
      "metadata": {
        "id": "5U4C-7aEsiOE"
      }
    },
    {
      "cell_type": "code",
      "execution_count": 11,
      "metadata": {
        "id": "x7YU_PE4J250"
      },
      "outputs": [],
      "source": [
        "# Define a function to preprocess audio\n",
        "def preprocess_audio(path):\n",
        "    _, sr = librosa.load(path)\n",
        "    raw_audio = AudioSegment.from_file(path)\n",
        "\n",
        "    samples = np.array(raw_audio.get_array_of_samples(), dtype='float32')\n",
        "    trimmed, _ = librosa.effects.trim(samples, top_db=25)\n",
        "    padded = np.pad(trimmed, (0, 180000 - len(trimmed)), 'constant')\n",
        "    return padded, sr"
      ]
    },
    {
      "cell_type": "code",
      "execution_count": 12,
      "metadata": {
        "id": "j7GAKUm0J3Pi"
      },
      "outputs": [],
      "source": [
        "# Encoding dictionary for emotions\n",
        "emotion_dict = {\n",
        "    'neutral': 0,\n",
        "    'happy': 1,\n",
        "    'sad': 2,\n",
        "    'angry': 3,\n",
        "    'fear': 4,\n",
        "    'disgust': 5\n",
        "}\n",
        "\n",
        "# Function to encode emotion labels\n",
        "def encode(label):\n",
        "    return emotion_dict.get(label)"
      ]
    },
    {
      "cell_type": "markdown",
      "source": [
        "**Feature Extraction from Audio**\n",
        "\n",
        "1. **Purpose:**\n",
        "   - The code extracts audio features, namely Zero Crossing Rate (ZCR), Root Mean Square (RMS), and Mel-frequency Cepstral Coefficients (MFCCs), from the preprocessed audio data.\n",
        "\n",
        "2. **Feature Extraction Steps:**\n",
        "   - **Zero Crossing Rate (ZCR):**\n",
        "     - `librosa.feature.zero_crossing_rate`: Computes the rate of zero-crossings in the audio signal.\n",
        "   - **Root Mean Square (RMS):**\n",
        "     - `librosa.feature.rms`: Computes the Root Mean Square energy of the audio signal.\n",
        "   - **Mel-frequency Cepstral Coefficients (MFCCs):**\n",
        "     - `librosa.feature.mfcc`: Computes the MFCCs, capturing the spectral characteristics of the audio.\n",
        "\n",
        "3. **Data Lists:**\n",
        "   - `zcr_list`, `rms_list`, and `mfccs_list`: Lists to store the extracted features for each audio file.\n",
        "   - `emotion_list`: List to store the encoded emotion labels corresponding to each audio file.\n",
        "\n",
        "4. **Processing Loop:**\n",
        "   - Iterates through each row of the DataFrame (`df`) containing audio file paths and emotions.\n",
        "   - Calls the `preprocess_audio` function to obtain the preprocessed audio data.\n",
        "   - If the audio data is valid, computes ZCR, RMS, and MFCCs, and appends them to the respective lists.\n",
        "   - Encodes the emotion label and appends it to the `emotion_list`.\n",
        "   - Handles exceptions and prints errors if encountered during the process.\n",
        "\n",
        "5. **Conversion to Arrays:**\n",
        "   - Converts the lists (`zcr_list`, `rms_list`, `mfccs_list`, `emotion_list`) to NumPy arrays (`zcr_array`, `rms_array`, `mfccs_array`, `emotion_array`).\n",
        "\n",
        "6. **Data Shapes:**\n",
        "   - Prints the shapes of the extracted feature arrays to provide insights into the dataset's structure.\n",
        "\n",
        "**Note:** These extracted features serve as input for training machine learning models to recognize emotional states in speech. The shape of the arrays is crucial for ensuring compatibility with the chosen model architecture."
      ],
      "metadata": {
        "id": "pXWhL1ZruIYQ"
      }
    },
    {
      "cell_type": "code",
      "execution_count": 13,
      "metadata": {
        "colab": {
          "base_uri": "https://localhost:8080/"
        },
        "id": "QNt-Bh9uMcxF",
        "outputId": "158522ff-4a4b-40c7-ec3f-23199db71181"
      },
      "outputs": [
        {
          "output_type": "stream",
          "name": "stdout",
          "text": [
            "Error processing audio at path: /content/drive/MyDrive/audio_speech_actors_01-24/Actor_20/03-01-06-01-01-02-20.wav, Error: index can't contain negative values\n",
            "ZCR array shape: (1056, 1, 352)\n",
            "RMS array shape: (1056, 1, 352)\n",
            "MFCCs array shape: (1056, 13, 352)\n",
            "Emotion array shape: (1056,)\n"
          ]
        }
      ],
      "source": [
        "zcr_list = []\n",
        "rms_list = []\n",
        "mfccs_list = []\n",
        "emotion_list = []\n",
        "\n",
        "FRAME_LENGTH = 2048\n",
        "HOP_LENGTH = 512\n",
        "\n",
        "for row in df.itertuples(index=False):\n",
        "    try:\n",
        "        y, sr = preprocess_audio(row.path)\n",
        "\n",
        "        # Ensure that y and sr are valid\n",
        "        if y is not None and sr is not None:\n",
        "            zcr = librosa.feature.zero_crossing_rate(y, frame_length=FRAME_LENGTH, hop_length=HOP_LENGTH)\n",
        "            rms = librosa.feature.rms(y=y, frame_length=FRAME_LENGTH, hop_length=HOP_LENGTH)\n",
        "            mfccs = librosa.feature.mfcc(y=y, sr=sr, n_mfcc=13, hop_length=HOP_LENGTH)\n",
        "\n",
        "            # Append features to lists\n",
        "            zcr_list.append(zcr)\n",
        "            rms_list.append(rms)\n",
        "            mfccs_list.append(mfccs)\n",
        "\n",
        "            emotion_list.append(encode(row.emotion))\n",
        "        else:\n",
        "            print(f\"Audio file {row.path} couldn't be loaded or processed.\")\n",
        "    except Exception as e:\n",
        "        print(f\"Error processing audio at path: {row.path}, Error: {e}\")\n",
        "\n",
        "# Convert lists to arrays\n",
        "zcr_array = np.array(zcr_list)\n",
        "rms_array = np.array(rms_list)\n",
        "mfccs_array = np.array(mfccs_list)\n",
        "emotion_array = np.array(emotion_list)\n",
        "\n",
        "print(f\"ZCR array shape: {zcr_array.shape}\")\n",
        "print(f\"RMS array shape: {rms_array.shape}\")\n",
        "print(f\"MFCCs array shape: {mfccs_array.shape}\")\n",
        "print(f\"Emotion array shape: {emotion_array.shape}\")\n"
      ]
    },
    {
      "cell_type": "code",
      "execution_count": null,
      "metadata": {
        "colab": {
          "base_uri": "https://localhost:8080/"
        },
        "id": "VdBi0duaMOCe",
        "outputId": "3fa53dd5-4b1e-40a3-88c5-572aa4980aea"
      },
      "outputs": [
        {
          "name": "stdout",
          "output_type": "stream",
          "text": [
            "(1056, 1, 352)\n",
            "(1056, 1, 352)\n",
            "(1056, 13, 352)\n"
          ]
        }
      ],
      "source": [
        "print(np.shape(zcr_list))  # Check the shape of zcr_list\n",
        "print(np.shape(rms_list))  # Check the shape of rms_list\n",
        "print(np.shape(mfccs_list))  # Check the shape of mfccs_list"
      ]
    },
    {
      "cell_type": "markdown",
      "source": [
        "**Data Transformation and Splitting**\n",
        "\n",
        "1. **Concatenation of Feature Arrays:**\n",
        "   - Combines the extracted feature arrays (`zcr_list`, `rms_list`, `mfccs_list`) into a single feature array (`X`) along the third axis.\n",
        "   - Utilizes `np.swapaxes` to ensure the correct shape compatibility for concatenation.\n",
        "   - The resulting array `X` has dimensions representing time, features, and different types of features.\n",
        "\n",
        "2. **Data Type Conversion:**\n",
        "   - Converts the data type of the feature array (`X`) to 'float32' to ensure compatibility with neural network models.\n",
        "\n",
        "3. **Label Transformation:**\n",
        "   - Converts the emotion labels (`emotion_list`) to a NumPy array (`y`) and expands its dimensions along the second axis.\n",
        "   - The labels are encoded as integers (`int8`) to match the model's output format.\n",
        "\n",
        "4. **Train-Validation-Test Split:**\n",
        "   - Splits the dataset into training, validation, and test sets using the `train_test_split` function.\n",
        "   - The initial split (`train_test_split(X, y, test_size=0.12, random_state=1)`) separates training data from the rest.\n",
        "   - The subsequent split (`train_test_split(X_to_split, y_to_split, test_size=0.3, random_state=1)`) divides the remaining data into validation and test sets.\n",
        "\n",
        "**Note:** The transformed feature array (`X`) and corresponding label array (`y`) are now ready for training and evaluating machine learning models, particularly neural networks for speech emotion recognition. The splitting ensures separate datasets for model training, validation, and final evaluation."
      ],
      "metadata": {
        "id": "Vvp-UntPuYcd"
      }
    },
    {
      "cell_type": "code",
      "execution_count": 14,
      "metadata": {
        "id": "_qnlo0_2J8l0"
      },
      "outputs": [],
      "source": [
        "X = np.concatenate((\n",
        "    np.swapaxes(zcr_list, 1, 2),\n",
        "    np.swapaxes(rms_list, 1, 2),\n",
        "    np.swapaxes(mfccs_list, 1, 2)),\n",
        "    axis=2\n",
        ")\n",
        "X = X.astype('float32')\n",
        "\n",
        "y = np.asarray(emotion_list)\n",
        "y = np.expand_dims(y, axis=1).astype('int8')\n",
        "#y = to_categorical(emotion_list, num_classes=6)\n",
        "\n",
        "\n",
        "# Split data into features and labels\n",
        "X_train, X_to_split, y_train, y_to_split = train_test_split(X, y, test_size=0.12, random_state=1)\n",
        "X_val, X_test, y_val, y_test = train_test_split(X_to_split, y_to_split, test_size=0.3, random_state=1)"
      ]
    },
    {
      "cell_type": "markdown",
      "metadata": {
        "id": "9FvcVQbxzi2N"
      },
      "source": [
        "**Neural Network Model Summary: Bidirectional LSTM for Voice Recognition**\n",
        "\n",
        "- **Model Type:** Sequential\n",
        "- **Layers:**\n",
        "  1. **Bidirectional LSTM Layer (1):**\n",
        "     - Units: 128\n",
        "     - Return Sequences: True (for subsequent layer)\n",
        "     - Input Shape: (Number of Time Steps, Number of Features)\n",
        "  2. **Bidirectional LSTM Layer (2):**\n",
        "     - Units: 128\n",
        "     - No Return Sequences (last layer)\n",
        "  3. **Dense Layer (Fully Connected):**\n",
        "     - Units: 64\n",
        "     - Activation Function: Rectified Linear Unit (ReLU)\n",
        "  4. **Dropout Layer:**\n",
        "     - Dropout Rate: 0.5 (50% dropout to prevent overfitting)\n",
        "  5. **Dense Layer (Output Layer):**\n",
        "     - Units: 6 (Number of Classes)\n",
        "     - Activation Function: Softmax (for multiclass classification)\n",
        "\n",
        "- **Compilation:**\n",
        "  - **Loss Function:** Categorical Crossentropy\n",
        "  - **Optimizer:** RMSProp\n",
        "  - **Metrics:** Accuracy\n",
        "\n",
        "- **Model Summary:**\n",
        "  - Total Parameters: Varies based on the input shape (determined during runtime).\n",
        "  - Trainable Parameters: Parameters that will be updated during training.\n",
        "  - Non-trainable Parameters: Parameters that remain constant during training (e.g., batch normalization moving statistics).\n",
        "\n",
        "**Note:** The model is designed for multiclass classification (6 emotion classes) using Bidirectional LSTM layers to capture temporal dependencies in the speech emotion features. The model architecture aims to balance complexity and generalization, and training will optimize the parameters for accurate emotion recognition."
      ]
    },
    {
      "cell_type": "code",
      "execution_count": 15,
      "metadata": {
        "colab": {
          "base_uri": "https://localhost:8080/"
        },
        "id": "JF9FRrFCzbsq",
        "outputId": "37775087-439c-460b-a152-3ca5ac1ac2bb"
      },
      "outputs": [
        {
          "output_type": "stream",
          "name": "stdout",
          "text": [
            "Model: \"sequential_1\"\n",
            "_________________________________________________________________\n",
            " Layer (type)                Output Shape              Param #   \n",
            "=================================================================\n",
            " bidirectional (Bidirection  (None, 352, 256)          147456    \n",
            " al)                                                             \n",
            "                                                                 \n",
            " bidirectional_1 (Bidirecti  (None, 256)               394240    \n",
            " onal)                                                           \n",
            "                                                                 \n",
            " dense (Dense)               (None, 64)                16448     \n",
            "                                                                 \n",
            " dropout (Dropout)           (None, 64)                0         \n",
            "                                                                 \n",
            " dense_1 (Dense)             (None, 6)                 390       \n",
            "                                                                 \n",
            "=================================================================\n",
            "Total params: 558534 (2.13 MB)\n",
            "Trainable params: 558534 (2.13 MB)\n",
            "Non-trainable params: 0 (0.00 Byte)\n",
            "_________________________________________________________________\n",
            "None\n"
          ]
        }
      ],
      "source": [
        "from keras.layers import LSTM, Dense, Dropout, Input, Bidirectional\n",
        "from keras.models import Sequential\n",
        "\n",
        "model_bidirectional_lstm = Sequential()\n",
        "model_bidirectional_lstm.add(Bidirectional(LSTM(128, return_sequences=True), input_shape=(X.shape[1], X.shape[2])))\n",
        "model_bidirectional_lstm.add(Bidirectional(LSTM(128)))\n",
        "model_bidirectional_lstm.add(Dense(64, activation='relu'))\n",
        "model_bidirectional_lstm.add(Dropout(0.5))\n",
        "model_bidirectional_lstm.add(Dense(6, activation='softmax'))\n",
        "\n",
        "model_bidirectional_lstm.compile(loss='categorical_crossentropy', optimizer='RMSProp', metrics=['accuracy'])\n",
        "print(model_bidirectional_lstm.summary())\n"
      ]
    },
    {
      "cell_type": "code",
      "execution_count": null,
      "metadata": {
        "id": "hlPiUSIdM8ul"
      },
      "outputs": [],
      "source": [
        "# Convert labels to categorical for training and validation\n",
        "y_train_categorical = to_categorical(y_train, num_classes=6)\n",
        "y_val_categorical = to_categorical(y_val, num_classes=6)"
      ]
    },
    {
      "cell_type": "code",
      "execution_count": null,
      "metadata": {
        "colab": {
          "base_uri": "https://localhost:8080/"
        },
        "id": "MZ8fgZnBPHvw",
        "outputId": "d9d24171-c951-465a-d901-1382d6f8faa9"
      },
      "outputs": [
        {
          "output_type": "stream",
          "name": "stdout",
          "text": [
            "Shape of y_train_categorical: (929, 6)\n",
            "Shape of y_val_categorical: (88, 6)\n"
          ]
        }
      ],
      "source": [
        "print(f\"Shape of y_train_categorical: {y_train_categorical.shape}\")\n",
        "print(f\"Shape of y_val_categorical: {y_val_categorical.shape}\")\n"
      ]
    },
    {
      "cell_type": "code",
      "execution_count": null,
      "metadata": {
        "colab": {
          "base_uri": "https://localhost:8080/"
        },
        "id": "6Eu87A0aPKt_",
        "outputId": "0f9a1c91-3052-415d-ab99-87ccfc90632b"
      },
      "outputs": [
        {
          "name": "stdout",
          "output_type": "stream",
          "text": [
            "Data type of y_train_categorical: float32\n",
            "Data type of y_val_categorical: float32\n"
          ]
        }
      ],
      "source": [
        "print(f\"Data type of y_train_categorical: {y_train_categorical.dtype}\")\n",
        "print(f\"Data type of y_val_categorical: {y_val_categorical.dtype}\")"
      ]
    },
    {
      "cell_type": "code",
      "execution_count": null,
      "metadata": {
        "colab": {
          "base_uri": "https://localhost:8080/"
        },
        "id": "1fpCyPNgPQzx",
        "outputId": "488bfcdc-8044-47fa-e4d7-c671d0e58959"
      },
      "outputs": [
        {
          "output_type": "stream",
          "name": "stdout",
          "text": [
            "Unique values in y_train: [0 1 2 3 4 5]\n",
            "Unique values in y_val: [0 1 2 3 4 5]\n"
          ]
        }
      ],
      "source": [
        "print(f\"Unique values in y_train: {np.unique(y_train)}\")\n",
        "print(f\"Unique values in y_val: {np.unique(y_val)}\")"
      ]
    },
    {
      "cell_type": "code",
      "execution_count": null,
      "metadata": {
        "colab": {
          "base_uri": "https://localhost:8080/"
        },
        "id": "iDdQ5ef7Pwpd",
        "outputId": "e4724899-39a1-4ede-f09f-04fcec7472d9"
      },
      "outputs": [
        {
          "name": "stdout",
          "output_type": "stream",
          "text": [
            "Shape of y_test: (39, 1)\n",
            "Unique values in y_test: [0 1 2 3 4 5]\n"
          ]
        }
      ],
      "source": [
        "print(f\"Shape of y_test: {y_test.shape}\")\n",
        "print(f\"Unique values in y_test: {np.unique(y_test)}\")"
      ]
    },
    {
      "cell_type": "code",
      "execution_count": null,
      "metadata": {
        "colab": {
          "base_uri": "https://localhost:8080/",
          "height": 1000
        },
        "id": "NbhidT7XNndD",
        "outputId": "170dd6a2-c719-4f92-ae7b-7a3a63fa774c"
      },
      "outputs": [
        {
          "output_type": "stream",
          "name": "stdout",
          "text": [
            "Epoch 1/100\n",
            "155/155 [==============================] - 23s 60ms/step - loss: 1.6936 - accuracy: 0.2659 - val_loss: 1.5651 - val_accuracy: 0.3295\n",
            "Epoch 2/100\n",
            "155/155 [==============================] - 9s 56ms/step - loss: 1.6334 - accuracy: 0.2982 - val_loss: 1.5271 - val_accuracy: 0.3523\n",
            "Epoch 3/100\n",
            "155/155 [==============================] - 8s 52ms/step - loss: 1.6045 - accuracy: 0.2939 - val_loss: 1.5414 - val_accuracy: 0.3068\n",
            "Epoch 4/100\n",
            "155/155 [==============================] - 8s 55ms/step - loss: 1.5532 - accuracy: 0.3251 - val_loss: 1.5152 - val_accuracy: 0.3750\n",
            "Epoch 5/100\n",
            "155/155 [==============================] - 9s 56ms/step - loss: 1.5149 - accuracy: 0.3315 - val_loss: 1.4260 - val_accuracy: 0.4091\n",
            "Epoch 6/100\n",
            "155/155 [==============================] - 8s 49ms/step - loss: 1.4922 - accuracy: 0.3488 - val_loss: 1.3883 - val_accuracy: 0.4432\n",
            "Epoch 7/100\n",
            "155/155 [==============================] - 9s 57ms/step - loss: 1.4692 - accuracy: 0.3531 - val_loss: 1.4727 - val_accuracy: 0.4091\n",
            "Epoch 8/100\n",
            "155/155 [==============================] - 7s 48ms/step - loss: 1.4569 - accuracy: 0.3994 - val_loss: 1.3899 - val_accuracy: 0.4318\n",
            "Epoch 9/100\n",
            "155/155 [==============================] - 10s 65ms/step - loss: 1.4305 - accuracy: 0.4230 - val_loss: 1.2557 - val_accuracy: 0.5341\n",
            "Epoch 10/100\n",
            "155/155 [==============================] - 8s 53ms/step - loss: 1.3638 - accuracy: 0.4338 - val_loss: 1.1738 - val_accuracy: 0.5568\n",
            "Epoch 11/100\n",
            "155/155 [==============================] - 8s 52ms/step - loss: 1.3386 - accuracy: 0.4822 - val_loss: 1.2118 - val_accuracy: 0.5341\n",
            "Epoch 12/100\n",
            "155/155 [==============================] - 9s 57ms/step - loss: 1.2796 - accuracy: 0.4844 - val_loss: 1.1674 - val_accuracy: 0.5455\n",
            "Epoch 13/100\n",
            "155/155 [==============================] - 8s 50ms/step - loss: 1.1956 - accuracy: 0.5210 - val_loss: 1.0504 - val_accuracy: 0.5909\n",
            "Epoch 14/100\n",
            "155/155 [==============================] - 9s 57ms/step - loss: 1.1654 - accuracy: 0.5479 - val_loss: 0.9933 - val_accuracy: 0.6477\n",
            "Epoch 15/100\n",
            "155/155 [==============================] - 7s 48ms/step - loss: 1.1199 - accuracy: 0.5748 - val_loss: 1.0251 - val_accuracy: 0.6477\n",
            "Epoch 16/100\n",
            "155/155 [==============================] - 9s 56ms/step - loss: 1.0969 - accuracy: 0.5780 - val_loss: 0.9826 - val_accuracy: 0.5909\n",
            "Epoch 17/100\n",
            "155/155 [==============================] - 8s 48ms/step - loss: 1.0577 - accuracy: 0.6125 - val_loss: 1.0485 - val_accuracy: 0.5909\n",
            "Epoch 18/100\n",
            "155/155 [==============================] - 9s 56ms/step - loss: 1.0132 - accuracy: 0.6125 - val_loss: 1.2173 - val_accuracy: 0.5455\n",
            "Epoch 19/100\n",
            "155/155 [==============================] - 8s 50ms/step - loss: 1.0256 - accuracy: 0.6082 - val_loss: 1.1093 - val_accuracy: 0.5455\n",
            "Epoch 20/100\n",
            "155/155 [==============================] - 8s 53ms/step - loss: 0.9658 - accuracy: 0.6448 - val_loss: 0.9676 - val_accuracy: 0.5909\n",
            "Epoch 21/100\n",
            "155/155 [==============================] - 9s 56ms/step - loss: 0.9053 - accuracy: 0.6555 - val_loss: 1.0075 - val_accuracy: 0.6591\n",
            "Epoch 22/100\n",
            "155/155 [==============================] - 8s 52ms/step - loss: 0.9381 - accuracy: 0.6405 - val_loss: 1.0644 - val_accuracy: 0.6023\n",
            "Epoch 23/100\n",
            "155/155 [==============================] - 9s 57ms/step - loss: 0.8364 - accuracy: 0.6792 - val_loss: 0.8933 - val_accuracy: 0.6932\n",
            "Epoch 24/100\n",
            "155/155 [==============================] - 8s 49ms/step - loss: 0.8395 - accuracy: 0.6825 - val_loss: 0.9162 - val_accuracy: 0.6932\n",
            "Epoch 25/100\n",
            "155/155 [==============================] - 9s 57ms/step - loss: 0.7771 - accuracy: 0.7104 - val_loss: 0.9369 - val_accuracy: 0.6250\n",
            "Epoch 26/100\n",
            "155/155 [==============================] - 7s 48ms/step - loss: 0.7553 - accuracy: 0.7266 - val_loss: 0.8951 - val_accuracy: 0.6932\n",
            "Epoch 27/100\n",
            "155/155 [==============================] - 9s 57ms/step - loss: 0.7137 - accuracy: 0.7524 - val_loss: 1.0362 - val_accuracy: 0.6023\n",
            "Epoch 28/100\n",
            "155/155 [==============================] - 8s 52ms/step - loss: 0.6947 - accuracy: 0.7395 - val_loss: 1.0960 - val_accuracy: 0.6364\n",
            "Epoch 29/100\n",
            "155/155 [==============================] - 8s 54ms/step - loss: 0.7015 - accuracy: 0.7524 - val_loss: 1.0822 - val_accuracy: 0.6477\n",
            "Epoch 30/100\n",
            "155/155 [==============================] - 9s 56ms/step - loss: 0.6623 - accuracy: 0.7621 - val_loss: 1.0105 - val_accuracy: 0.6591\n",
            "Epoch 31/100\n",
            "155/155 [==============================] - 10s 66ms/step - loss: 0.6620 - accuracy: 0.7589 - val_loss: 1.0127 - val_accuracy: 0.6705\n",
            "Epoch 32/100\n",
            "155/155 [==============================] - 9s 59ms/step - loss: 0.5756 - accuracy: 0.7740 - val_loss: 1.0287 - val_accuracy: 0.6705\n",
            "Epoch 33/100\n",
            "155/155 [==============================] - 8s 49ms/step - loss: 0.5909 - accuracy: 0.7815 - val_loss: 1.2391 - val_accuracy: 0.6705\n",
            "Epoch 34/100\n",
            "155/155 [==============================] - 9s 57ms/step - loss: 0.6003 - accuracy: 0.7912 - val_loss: 1.0818 - val_accuracy: 0.7045\n",
            "Epoch 35/100\n",
            "155/155 [==============================] - 8s 49ms/step - loss: 0.6115 - accuracy: 0.7912 - val_loss: 1.0320 - val_accuracy: 0.6591\n",
            "Epoch 36/100\n",
            "155/155 [==============================] - 9s 57ms/step - loss: 0.5311 - accuracy: 0.8073 - val_loss: 1.0306 - val_accuracy: 0.6932\n",
            "Epoch 37/100\n",
            "155/155 [==============================] - 8s 52ms/step - loss: 0.4994 - accuracy: 0.8407 - val_loss: 1.1935 - val_accuracy: 0.6477\n",
            "Epoch 38/100\n",
            "155/155 [==============================] - 8s 54ms/step - loss: 0.4800 - accuracy: 0.8310 - val_loss: 1.2768 - val_accuracy: 0.7159\n",
            "Epoch 39/100\n",
            "155/155 [==============================] - 9s 58ms/step - loss: 0.4919 - accuracy: 0.8192 - val_loss: 1.1343 - val_accuracy: 0.6932\n",
            "Epoch 40/100\n",
            "155/155 [==============================] - 8s 50ms/step - loss: 0.4111 - accuracy: 0.8536 - val_loss: 1.2650 - val_accuracy: 0.7045\n",
            "Epoch 41/100\n",
            "155/155 [==============================] - 9s 57ms/step - loss: 0.4533 - accuracy: 0.8407 - val_loss: 1.3108 - val_accuracy: 0.6932\n",
            "Epoch 42/100\n",
            "155/155 [==============================] - 8s 49ms/step - loss: 0.4172 - accuracy: 0.8611 - val_loss: 1.3751 - val_accuracy: 0.5568\n",
            "Epoch 43/100\n",
            "155/155 [==============================] - 9s 58ms/step - loss: 0.4244 - accuracy: 0.8482 - val_loss: 1.2341 - val_accuracy: 0.6932\n",
            "Epoch 44/100\n",
            "155/155 [==============================] - 8s 49ms/step - loss: 0.3518 - accuracy: 0.8934 - val_loss: 1.2571 - val_accuracy: 0.6818\n",
            "Epoch 45/100\n",
            "155/155 [==============================] - 9s 57ms/step - loss: 0.4175 - accuracy: 0.8708 - val_loss: 1.0964 - val_accuracy: 0.6477\n",
            "Epoch 46/100\n",
            "155/155 [==============================] - 8s 51ms/step - loss: 0.3789 - accuracy: 0.8719 - val_loss: 2.0453 - val_accuracy: 0.6364\n",
            "Epoch 47/100\n",
            "155/155 [==============================] - 8s 55ms/step - loss: 0.3809 - accuracy: 0.8751 - val_loss: 1.5518 - val_accuracy: 0.6250\n",
            "Epoch 48/100\n",
            "155/155 [==============================] - 8s 54ms/step - loss: 0.3819 - accuracy: 0.8708 - val_loss: 1.4783 - val_accuracy: 0.6818\n",
            "Epoch 49/100\n",
            "155/155 [==============================] - 8s 52ms/step - loss: 0.3724 - accuracy: 0.8730 - val_loss: 1.2576 - val_accuracy: 0.6705\n",
            "Epoch 50/100\n",
            "155/155 [==============================] - 9s 57ms/step - loss: 0.3691 - accuracy: 0.8784 - val_loss: 1.6173 - val_accuracy: 0.6364\n",
            "Epoch 51/100\n",
            "155/155 [==============================] - 8s 49ms/step - loss: 0.3285 - accuracy: 0.8977 - val_loss: 1.2521 - val_accuracy: 0.7273\n",
            "Epoch 52/100\n",
            "155/155 [==============================] - 9s 57ms/step - loss: 0.3366 - accuracy: 0.8881 - val_loss: 1.5665 - val_accuracy: 0.6818\n",
            "Epoch 53/100\n",
            "155/155 [==============================] - 8s 49ms/step - loss: 0.2583 - accuracy: 0.9064 - val_loss: 1.3544 - val_accuracy: 0.6705\n",
            "Epoch 54/100\n",
            "155/155 [==============================] - 9s 58ms/step - loss: 0.3515 - accuracy: 0.8956 - val_loss: 1.6460 - val_accuracy: 0.6705\n",
            "Epoch 55/100\n",
            "155/155 [==============================] - 8s 50ms/step - loss: 0.3260 - accuracy: 0.8977 - val_loss: 1.5961 - val_accuracy: 0.6818\n",
            "Epoch 56/100\n",
            "155/155 [==============================] - 9s 58ms/step - loss: 0.2665 - accuracy: 0.8999 - val_loss: 1.8846 - val_accuracy: 0.6477\n",
            "Epoch 57/100\n",
            "155/155 [==============================] - 8s 55ms/step - loss: 0.2406 - accuracy: 0.9182 - val_loss: 2.0567 - val_accuracy: 0.6477\n",
            "Epoch 58/100\n",
            "155/155 [==============================] - 8s 52ms/step - loss: 0.2387 - accuracy: 0.9064 - val_loss: 1.5085 - val_accuracy: 0.7045\n",
            "Epoch 59/100\n",
            "155/155 [==============================] - 9s 56ms/step - loss: 0.2652 - accuracy: 0.9150 - val_loss: 1.9019 - val_accuracy: 0.6591\n",
            "Epoch 60/100\n",
            "155/155 [==============================] - 8s 50ms/step - loss: 0.3256 - accuracy: 0.9010 - val_loss: 1.8772 - val_accuracy: 0.6705\n",
            "Epoch 61/100\n",
            "155/155 [==============================] - 9s 57ms/step - loss: 0.2565 - accuracy: 0.9214 - val_loss: 1.8213 - val_accuracy: 0.5682\n",
            "Epoch 62/100\n",
            "155/155 [==============================] - 8s 49ms/step - loss: 0.1982 - accuracy: 0.9268 - val_loss: 1.6903 - val_accuracy: 0.6932\n",
            "Epoch 63/100\n",
            "155/155 [==============================] - 9s 57ms/step - loss: 0.2230 - accuracy: 0.9268 - val_loss: 2.0202 - val_accuracy: 0.6818\n",
            "Epoch 64/100\n",
            "155/155 [==============================] - 8s 52ms/step - loss: 0.2458 - accuracy: 0.9117 - val_loss: 2.2620 - val_accuracy: 0.6023\n",
            "Epoch 65/100\n",
            "155/155 [==============================] - 11s 70ms/step - loss: 0.2752 - accuracy: 0.9085 - val_loss: 2.0107 - val_accuracy: 0.6364\n",
            "Epoch 66/100\n",
            "155/155 [==============================] - 8s 55ms/step - loss: 0.2339 - accuracy: 0.9236 - val_loss: 1.6009 - val_accuracy: 0.7045\n",
            "Epoch 67/100\n",
            "155/155 [==============================] - 8s 52ms/step - loss: 0.2680 - accuracy: 0.9150 - val_loss: 1.8176 - val_accuracy: 0.6591\n",
            "Epoch 68/100\n",
            "155/155 [==============================] - 8s 54ms/step - loss: 0.2482 - accuracy: 0.9236 - val_loss: 2.2355 - val_accuracy: 0.6477\n",
            "Epoch 69/100\n",
            "155/155 [==============================] - 8s 49ms/step - loss: 0.2261 - accuracy: 0.9343 - val_loss: 2.4354 - val_accuracy: 0.5000\n",
            "Epoch 70/100\n",
            "155/155 [==============================] - 9s 57ms/step - loss: 0.2649 - accuracy: 0.9182 - val_loss: 2.3318 - val_accuracy: 0.6364\n",
            "Epoch 71/100\n",
            "155/155 [==============================] - 8s 49ms/step - loss: 0.2541 - accuracy: 0.9290 - val_loss: 1.4894 - val_accuracy: 0.5909\n",
            "Epoch 72/100\n",
            "155/155 [==============================] - 9s 59ms/step - loss: 0.2402 - accuracy: 0.9268 - val_loss: 2.0945 - val_accuracy: 0.6477\n",
            "Epoch 73/100\n",
            "155/155 [==============================] - 8s 49ms/step - loss: 0.1738 - accuracy: 0.9451 - val_loss: 2.3623 - val_accuracy: 0.6591\n",
            "Epoch 74/100\n",
            "155/155 [==============================] - 9s 57ms/step - loss: 0.2252 - accuracy: 0.9365 - val_loss: 2.5158 - val_accuracy: 0.5341\n",
            "Epoch 75/100\n",
            "155/155 [==============================] - 8s 51ms/step - loss: 0.2829 - accuracy: 0.9225 - val_loss: 2.4344 - val_accuracy: 0.5795\n",
            "Epoch 76/100\n",
            "155/155 [==============================] - 9s 55ms/step - loss: 0.1773 - accuracy: 0.9483 - val_loss: 1.7170 - val_accuracy: 0.7045\n",
            "Epoch 77/100\n",
            "155/155 [==============================] - 9s 56ms/step - loss: 0.1725 - accuracy: 0.9354 - val_loss: 2.2805 - val_accuracy: 0.7045\n",
            "Epoch 78/100\n",
            "155/155 [==============================] - 8s 51ms/step - loss: 0.2032 - accuracy: 0.9397 - val_loss: 2.1747 - val_accuracy: 0.6818\n",
            "Epoch 79/100\n",
            "155/155 [==============================] - 9s 57ms/step - loss: 0.2261 - accuracy: 0.9386 - val_loss: 2.1226 - val_accuracy: 0.6364\n",
            "Epoch 80/100\n",
            "155/155 [==============================] - 8s 49ms/step - loss: 0.2291 - accuracy: 0.9354 - val_loss: 2.0201 - val_accuracy: 0.6705\n",
            "Epoch 81/100\n",
            "155/155 [==============================] - 9s 57ms/step - loss: 0.1911 - accuracy: 0.9397 - val_loss: 2.3134 - val_accuracy: 0.6818\n",
            "Epoch 82/100\n",
            "155/155 [==============================] - 8s 49ms/step - loss: 0.1324 - accuracy: 0.9537 - val_loss: 2.5100 - val_accuracy: 0.6136\n",
            "Epoch 83/100\n",
            "155/155 [==============================] - 9s 57ms/step - loss: 0.1559 - accuracy: 0.9494 - val_loss: 2.0601 - val_accuracy: 0.6364\n",
            "Epoch 84/100\n",
            "155/155 [==============================] - 8s 53ms/step - loss: 0.1893 - accuracy: 0.9429 - val_loss: 2.1581 - val_accuracy: 0.6591\n",
            "Epoch 85/100\n",
            "155/155 [==============================] - 9s 55ms/step - loss: 0.1870 - accuracy: 0.9419 - val_loss: 2.6571 - val_accuracy: 0.6591\n",
            "Epoch 86/100\n",
            "155/155 [==============================] - 9s 57ms/step - loss: 0.1957 - accuracy: 0.9483 - val_loss: 1.8049 - val_accuracy: 0.6591\n",
            "Epoch 87/100\n",
            "155/155 [==============================] - 8s 49ms/step - loss: 0.2452 - accuracy: 0.9365 - val_loss: 2.0177 - val_accuracy: 0.6591\n",
            "Epoch 88/100\n",
            "155/155 [==============================] - 9s 59ms/step - loss: 0.1998 - accuracy: 0.9526 - val_loss: 2.3688 - val_accuracy: 0.6250\n",
            "Epoch 89/100\n",
            "155/155 [==============================] - 8s 49ms/step - loss: 0.2266 - accuracy: 0.9376 - val_loss: 2.1957 - val_accuracy: 0.6818\n",
            "Epoch 90/100\n",
            "155/155 [==============================] - 9s 57ms/step - loss: 0.1610 - accuracy: 0.9505 - val_loss: 2.1504 - val_accuracy: 0.6705\n",
            "Epoch 91/100\n",
            "155/155 [==============================] - 8s 49ms/step - loss: 0.1877 - accuracy: 0.9440 - val_loss: 1.9930 - val_accuracy: 0.7045\n",
            "Epoch 92/100\n",
            "155/155 [==============================] - 9s 57ms/step - loss: 0.1641 - accuracy: 0.9559 - val_loss: 2.2233 - val_accuracy: 0.6477\n",
            "Epoch 93/100\n",
            "155/155 [==============================] - 8s 52ms/step - loss: 0.2061 - accuracy: 0.9397 - val_loss: 2.6101 - val_accuracy: 0.6136\n",
            "Epoch 94/100\n",
            "155/155 [==============================] - 8s 55ms/step - loss: 0.2001 - accuracy: 0.9429 - val_loss: 2.7093 - val_accuracy: 0.6136\n",
            "Epoch 95/100\n",
            "155/155 [==============================] - 9s 57ms/step - loss: 0.2361 - accuracy: 0.9440 - val_loss: 2.1050 - val_accuracy: 0.6818\n",
            "Epoch 96/100\n",
            "155/155 [==============================] - 8s 51ms/step - loss: 0.1604 - accuracy: 0.9548 - val_loss: 2.7103 - val_accuracy: 0.6477\n",
            "Epoch 97/100\n",
            "155/155 [==============================] - 9s 59ms/step - loss: 0.1661 - accuracy: 0.9462 - val_loss: 2.4017 - val_accuracy: 0.6364\n",
            "Epoch 98/100\n",
            "155/155 [==============================] - 8s 49ms/step - loss: 0.1623 - accuracy: 0.9602 - val_loss: 2.2958 - val_accuracy: 0.6250\n",
            "Epoch 99/100\n",
            "155/155 [==============================] - 10s 67ms/step - loss: 0.1700 - accuracy: 0.9451 - val_loss: 2.3737 - val_accuracy: 0.5568\n",
            "Epoch 100/100\n",
            "155/155 [==============================] - 9s 55ms/step - loss: 0.1137 - accuracy: 0.9623 - val_loss: 2.2764 - val_accuracy: 0.6477\n"
          ]
        },
        {
          "output_type": "display_data",
          "data": {
            "text/plain": [
              "<Figure size 1200x600 with 1 Axes>"
            ],
            "image/png": "[encoded data removed]"
          },
          "metadata": {}
        },
        {
          "output_type": "display_data",
          "data": {
            "text/plain": [
              "<Figure size 1200x600 with 1 Axes>"
            ],
            "image/png": "[encoded data removed]"
          },
          "metadata": {}
        }
      ],
      "source": [
        "# Train the model and collect the training history\n",
        "history = model_bidirectional_lstm.fit(X_train, y_train_categorical, epochs=100, batch_size=6, validation_data=(X_val, y_val_categorical))\n",
        "\n",
        "# Plot training and validation accuracy\n",
        "plt.figure(figsize=(12, 6))\n",
        "plt.plot(history.history['accuracy'], label='Training Accuracy')\n",
        "plt.plot(history.history['val_accuracy'], label='Validation Accuracy')\n",
        "plt.title('Training and Validation Accuracy')\n",
        "plt.xlabel('Epochs')\n",
        "plt.ylabel('Accuracy')\n",
        "plt.legend()\n",
        "plt.show()\n",
        "\n",
        "# Plot training and validation loss\n",
        "plt.figure(figsize=(12, 6))\n",
        "plt.plot(history.history['loss'], label='Training Loss')\n",
        "plt.plot(history.history['val_loss'], label='Validation Loss')\n",
        "plt.title('Training and Validation Loss')\n",
        "plt.xlabel('Epochs')\n",
        "plt.ylabel('Loss')\n",
        "plt.legend()\n",
        "plt.show()\n"
      ]
    },
    {
      "cell_type": "code",
      "execution_count": null,
      "metadata": {
        "id": "Mzd8_PpmckHu"
      },
      "outputs": [],
      "source": [
        "#!pip install tabulate"
      ]
    },
    {
      "cell_type": "code",
      "execution_count": null,
      "metadata": {
        "colab": {
          "base_uri": "https://localhost:8080/"
        },
        "id": "xDmBIyuH1Fqk",
        "outputId": "e28e6f78-1852-4931-cfcf-fc5ace866d3c"
      },
      "outputs": [
        {
          "output_type": "stream",
          "name": "stdout",
          "text": [
            "╒════════════════════════════╤═════════╕\n",
            "│ Metric                     │   Value │\n",
            "╞════════════════════════════╪═════════╡\n",
            "│ Maximum Testing accuracy:  │  \u001b[1;32m0.7273\u001b[0m │\n",
            "├────────────────────────────┼─────────┤\n",
            "│ Maximum Training accuracy: │  \u001b[1;32m0.9623\u001b[0m │\n",
            "├────────────────────────────┼─────────┤\n",
            "│ Minimum Training Loss:     │  \u001b[1;31m0.1137\u001b[0m │\n",
            "├────────────────────────────┼─────────┤\n",
            "│ Minimum Testing Loss:      │  \u001b[1;31m0.8933\u001b[0m │\n",
            "╘════════════════════════════╧═════════╛\n"
          ]
        }
      ],
      "source": [
        "from tabulate import tabulate\n",
        "# Calculate Maximum Testing accuracy, Maximum Training accuracy, Minimum Training Loss, Minimum Testing Loss\n",
        "max_val_acc = max(history.history['val_accuracy'])\n",
        "max_accuracy = max(history.history['accuracy'])\n",
        "min_loss = min(history.history['loss'])\n",
        "min_val_loss = min(history.history['val_loss'])\n",
        "\n",
        "# Create a list of lists containing the metric names and their values\n",
        "table = [\n",
        "    [\"Maximum Testing accuracy:\", f\"\\033[1;32m{max_val_acc:.4f}\\033[0m\"],\n",
        "    [\"Maximum Training accuracy:\", f\"\\033[1;32m{max_accuracy:.4f}\\033[0m\"],\n",
        "    [\"Minimum Training Loss:\", f\"\\033[1;31m{min_loss:.4f}\\033[0m\"],\n",
        "    [\"Minimum Testing Loss:\", f\"\\033[1;31m{min_val_loss:.4f}\\033[0m\"]\n",
        "]\n",
        "\n",
        "# Print the table using tabulate, with \"Metric\" and \"Value\" as headers and \"fancy_grid\" as the table format\n",
        "print(tabulate(table, headers=[\"Metric\", \"Value\"], tablefmt=\"fancy_grid\"))"
      ]
    },
    {
      "cell_type": "markdown",
      "metadata": {
        "id": "v9koUwJWKRaK"
      },
      "source": [
        "# *Saving the Model*"
      ]
    },
    {
      "cell_type": "code",
      "execution_count": null,
      "metadata": {
        "colab": {
          "base_uri": "https://localhost:8080/"
        },
        "id": "OERaGJlbKRvR",
        "outputId": "2015e9cf-238c-4ac1-908d-f7f297f2848f"
      },
      "outputs": [
        {
          "output_type": "stream",
          "name": "stderr",
          "text": [
            "/usr/local/lib/python3.10/dist-packages/keras/src/engine/training.py:3103: UserWarning: You are saving your model as an HDF5 file via `model.save()`. This file format is considered legacy. We recommend using instead the native Keras format, e.g. `model.save('my_model.keras')`.\n",
            "  saving_api.save_model(\n"
          ]
        }
      ],
      "source": [
        "model_bidirectional_lstm.save(\"emotion_model_bidirectional_lstm.h5\")"
      ]
    },
    {
      "cell_type": "code",
      "execution_count": null,
      "metadata": {
        "id": "I06-eEDEKUko"
      },
      "outputs": [],
      "source": [
        "model_bidirectional_lstm.save(\"emotion_model_bidirectional_lstm.model\")"
      ]
    },
    {
      "cell_type": "code",
      "source": [
        "%cd /content/drive/MyDrive/models"
      ],
      "metadata": {
        "colab": {
          "base_uri": "https://localhost:8080/"
        },
        "id": "84SblTBmjNuh",
        "outputId": "ad338f26-5144-4d8c-d55b-59e4cb95dce4"
      },
      "execution_count": 2,
      "outputs": [
        {
          "output_type": "stream",
          "name": "stdout",
          "text": [
            "/content/drive/MyDrive/models\n"
          ]
        }
      ]
    },
    {
      "cell_type": "code",
      "source": [
        "#!pip install scikit-learn"
      ],
      "metadata": {
        "colab": {
          "base_uri": "https://localhost:8080/"
        },
        "id": "Rjx6hjWWjuZN",
        "outputId": "6773ea06-4946-4ecf-d98f-632e18bcd789"
      },
      "execution_count": 4,
      "outputs": [
        {
          "output_type": "stream",
          "name": "stdout",
          "text": [
            "Requirement already satisfied: scikit-learn in /usr/local/lib/python3.10/dist-packages (1.2.2)\n",
            "Requirement already satisfied: numpy>=1.17.3 in /usr/local/lib/python3.10/dist-packages (from scikit-learn) (1.23.5)\n",
            "Requirement already satisfied: scipy>=1.3.2 in /usr/local/lib/python3.10/dist-packages (from scikit-learn) (1.11.4)\n",
            "Requirement already satisfied: joblib>=1.1.1 in /usr/local/lib/python3.10/dist-packages (from scikit-learn) (1.3.2)\n",
            "Requirement already satisfied: threadpoolctl>=2.0.0 in /usr/local/lib/python3.10/dist-packages (from scikit-learn) (3.2.0)\n"
          ]
        }
      ]
    },
    {
      "cell_type": "code",
      "source": [
        "#!pip install visualkeras"
      ],
      "metadata": {
        "colab": {
          "base_uri": "https://localhost:8080/"
        },
        "id": "2aG5a0a2vU2A",
        "outputId": "d438bd28-e256-4b10-af7e-f4f3356adfdb"
      },
      "execution_count": 2,
      "outputs": [
        {
          "output_type": "stream",
          "name": "stdout",
          "text": [
            "Collecting visualkeras\n",
            "  Downloading visualkeras-0.0.2-py3-none-any.whl (12 kB)\n",
            "Requirement already satisfied: pillow>=6.2.0 in /usr/local/lib/python3.10/dist-packages (from visualkeras) (9.4.0)\n",
            "Requirement already satisfied: numpy>=1.18.1 in /usr/local/lib/python3.10/dist-packages (from visualkeras) (1.23.5)\n",
            "Collecting aggdraw>=1.3.11 (from visualkeras)\n",
            "  Downloading aggdraw-1.3.18-cp310-cp310-manylinux_2_17_x86_64.manylinux2014_x86_64.whl (993 kB)\n",
            "\u001b[2K     \u001b[90m━━━━━━━━━━━━━━━━━━━━━━━━━━━━━━━━━━━━━━━━\u001b[0m \u001b[32m993.7/993.7 kB\u001b[0m \u001b[31m5.9 MB/s\u001b[0m eta \u001b[36m0:00:00\u001b[0m\n",
            "\u001b[?25hInstalling collected packages: aggdraw, visualkeras\n",
            "Successfully installed aggdraw-1.3.18 visualkeras-0.0.2\n"
          ]
        }
      ]
    },
    {
      "cell_type": "code",
      "source": [
        "#!pip install pydot graphviz"
      ],
      "metadata": {
        "colab": {
          "base_uri": "https://localhost:8080/"
        },
        "id": "wYtrPCRyvahW",
        "outputId": "53ecd226-bbd1-4d09-89f4-b655f60e95d2"
      },
      "execution_count": 19,
      "outputs": [
        {
          "output_type": "stream",
          "name": "stdout",
          "text": [
            "Requirement already satisfied: pydot in /usr/local/lib/python3.10/dist-packages (1.4.2)\n",
            "Requirement already satisfied: graphviz in /usr/local/lib/python3.10/dist-packages (0.20.1)\n",
            "Requirement already satisfied: pyparsing>=2.1.4 in /usr/local/lib/python3.10/dist-packages (from pydot) (3.1.1)\n"
          ]
        }
      ]
    },
    {
      "cell_type": "code",
      "source": [
        "# !pip install pydot\n",
        "# !sudo apt-get install graphviz\n",
        "# !pip install graphviz"
      ],
      "metadata": {
        "colab": {
          "base_uri": "https://localhost:8080/"
        },
        "id": "HKR02Zed0Agv",
        "outputId": "ae2f33db-4e0b-4331-c40e-2b625ec6f221"
      },
      "execution_count": 22,
      "outputs": [
        {
          "output_type": "stream",
          "name": "stdout",
          "text": [
            "Requirement already satisfied: pydot in /usr/local/lib/python3.10/dist-packages (1.4.2)\n",
            "Requirement already satisfied: pyparsing>=2.1.4 in /usr/local/lib/python3.10/dist-packages (from pydot) (3.1.1)\n",
            "Reading package lists... Done\n",
            "Building dependency tree... Done\n",
            "Reading state information... Done\n",
            "graphviz is already the newest version (2.42.2-6).\n",
            "0 upgraded, 0 newly installed, 0 to remove and 24 not upgraded.\n",
            "Requirement already satisfied: graphviz in /usr/local/lib/python3.10/dist-packages (0.20.1)\n"
          ]
        }
      ]
    }
  ],
  "metadata": {
    "colab": {
      "provenance": []
    },
    "kernelspec": {
      "display_name": "Python 3",
      "name": "python3"
    },
    "language_info": {
      "name": "python"
    }
  },
  "nbformat": 4,
  "nbformat_minor": 0
}